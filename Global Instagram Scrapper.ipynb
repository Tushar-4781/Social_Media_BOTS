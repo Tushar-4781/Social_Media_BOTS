{
 "cells": [
  {
   "cell_type": "code",
   "execution_count": 1,
   "metadata": {},
   "outputs": [],
   "source": [
    "\n",
    "from selenium import webdriver\n",
    "from selenium.webdriver.common.keys import Keys\n",
    "from selenium.webdriver.support import expected_conditions as EC\n",
    "from selenium.webdriver.common.by import By\n",
    "from selenium.webdriver.support.wait import WebDriverWait\n",
    "import time \n",
    "import random\n",
    "from selenium.webdriver import Chrome"
   ]
  },
  {
   "cell_type": "code",
   "execution_count": 2,
   "metadata": {},
   "outputs": [
    {
     "name": "stdout",
     "output_type": "stream",
     "text": [
      "https://instagram.com\n"
     ]
    }
   ],
   "source": [
    "# create instance of web driver\n",
    "driver = Chrome()\n",
    "\n",
    "# search_term = input()\n",
    "URL = \"https://instagram.com\"\n",
    "print(URL)\n",
    "# navigate to login screen\n",
    "driver.get(URL)\n",
    "driver.maximize_window()"
   ]
  },
  {
   "cell_type": "code",
   "execution_count": 3,
   "metadata": {},
   "outputs": [],
   "source": [
    "username = WebDriverWait(driver, 10).until(EC.element_to_be_clickable((By.CSS_SELECTOR, \"input[name='username']\")))\n",
    "password = WebDriverWait(driver, 10).until(EC.element_to_be_clickable((By.CSS_SELECTOR, \"input[name='password']\")))\n",
    "\n",
    "username.send_keys(\"XXXXX\")\n",
    "password.send_keys(\"XXXXX\")\n",
    "\n",
    "submit = WebDriverWait(driver, 10).until(EC.element_to_be_clickable((By.CSS_SELECTOR, \"button[type='submit']\"))).click()\n"
   ]
  },
  {
   "cell_type": "code",
   "execution_count": 4,
   "metadata": {},
   "outputs": [],
   "source": [
    "alert = WebDriverWait(driver, 10).until(EC.element_to_be_clickable((By.XPATH, \"//button[contains(text(), 'Not Now')]\"))).click()\n",
    "alert = WebDriverWait(driver, 10).until(EC.element_to_be_clickable((By.XPATH, \"//button[contains(text(), 'Not Now')]\"))).click()"
   ]
  },
  {
   "cell_type": "code",
   "execution_count": 5,
   "metadata": {},
   "outputs": [],
   "source": [
    "user = \"XXXX\"\n",
    "driver.get(\"https://www.instagram.com/\" + user + \"/\")"
   ]
  },
  {
   "cell_type": "code",
   "execution_count": 6,
   "metadata": {},
   "outputs": [
    {
     "name": "stdout",
     "output_type": "stream",
     "text": [
      "100\n",
      "100  posts has been collected\n"
     ]
    }
   ],
   "source": [
    "\n",
    "data = []\n",
    "last_position = driver.execute_script(\"return window.pageYOffset;\")\n",
    "scrolling = True\n",
    "limit = int(input())\n",
    "while scrolling and len(data)<=limit:\n",
    "    \n",
    "    anchors = driver.find_elements_by_tag_name(\"a\")\n",
    "    anchors = [a.get_attribute(\"href\") for a in anchors]\n",
    "    anchors = [a for a in anchors if a.startswith(\"https://www.instagram.com/p/\")]\n",
    "    data.extend(anchors)\n",
    "\n",
    "    scroll_attempt = 0\n",
    "    while True:\n",
    "        # check scroll position\n",
    "        driver.execute_script('window.scrollTo(0, document.body.scrollHeight);')\n",
    "        time.sleep(5)\n",
    "        curr_position = driver.execute_script(\"return window.pageYOffset;\")\n",
    "        if last_position == curr_position:\n",
    "            scroll_attempt += 1\n",
    "            \n",
    "            # end of scroll region\n",
    "            if scroll_attempt >= 3:\n",
    "                scrolling = False\n",
    "                break\n",
    "            else:\n",
    "                time.sleep(5) # attempt another scroll\n",
    "        else:\n",
    "            last_position = curr_position\n",
    "            break\n",
    "    if(len(data)>=limit):\n",
    "        print(limit,\" posts has been collected\")\n",
    "\n"
   ]
  },
  {
   "cell_type": "code",
   "execution_count": 7,
   "metadata": {},
   "outputs": [
    {
     "data": {
      "text/plain": [
       "102"
      ]
     },
     "execution_count": 7,
     "metadata": {},
     "output_type": "execute_result"
    }
   ],
   "source": [
    "len(data)"
   ]
  },
  {
   "cell_type": "code",
   "execution_count": null,
   "metadata": {},
   "outputs": [],
   "source": [
    "scrapped_data = []\n",
    "for i in data:\n",
    "    obj = {'post_link':'','data':[]}\n",
    "    driver.get(i)\n",
    "    print(i)\n",
    "    # form = driver.find_element_by_tag_name(\"form\").click()\n",
    "    text_area = driver.find_elements_by_tag_name(\"span\")\n",
    "    c=0\n",
    "    for i in text_area:\n",
    "        if \"English\" in i.text:\n",
    "            break\n",
    "        if(i.text not in ['',\" \",\"\\n\"]):\n",
    "            obj['data'].append(i.text)\n",
    "            print(i.text)\n",
    "    scrapped_data.append(obj)\n",
    "\n",
    "# close the web driver\n",
    "driver.close()\n",
    "\n",
    "scrapped_data"
   ]
  }
 ],
 "metadata": {
  "kernelspec": {
   "display_name": "Python 3",
   "language": "python",
   "name": "python3"
  },
  "language_info": {
   "codemirror_mode": {
    "name": "ipython",
    "version": 3
   },
   "file_extension": ".py",
   "mimetype": "text/x-python",
   "name": "python",
   "nbconvert_exporter": "python",
   "pygments_lexer": "ipython3",
   "version": "3.7.4"
  }
 },
 "nbformat": 4,
 "nbformat_minor": 2
}
