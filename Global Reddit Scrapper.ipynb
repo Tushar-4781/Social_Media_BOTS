{
 "cells": [
  {
   "cell_type": "code",
   "execution_count": 2,
   "metadata": {},
   "outputs": [
    {
     "name": "stderr",
     "output_type": "stream",
     "text": [
      "C:\\Users\\DeLL\\Anaconda3\\lib\\site-packages\\requests\\__init__.py:91: RequestsDependencyWarning: urllib3 (1.26.5) or chardet (3.0.4) doesn't match a supported version!\n",
      "  RequestsDependencyWarning)\n"
     ]
    }
   ],
   "source": [
    "import json\n",
    "import requests\n",
    "import xmltodict\n",
    "from urllib.request import urlopen\n",
    "import lxml.etree as ET    \n",
    "import html2text\n"
   ]
  },
  {
   "cell_type": "markdown",
   "metadata": {},
   "source": [
    "# SEARCH"
   ]
  },
  {
   "cell_type": "code",
   "execution_count": null,
   "metadata": {},
   "outputs": [],
   "source": [
    "def inputs():\n",
    "    ipts = {'sort':'','t':''}\n",
    "    print(\"PRESS 1 : For TOP rated posts\\nPRESS 2 : For Highly Commented posts\\nPRESS 3 : For HOT posts\")\n",
    "    while ipts['sort']=='':\n",
    "        choice = int(input(\"Enter your Choice: \")) \n",
    "        if choice==1:\n",
    "            ipts['sort']=\"top\"\n",
    "        elif choice==2:\n",
    "            ipts['sort']=\"comments\"\n",
    "        elif choice==3:\n",
    "            ipts['sort']=\"hot\"\n",
    "        else:\n",
    "            print(\"Invalid Choice. Try again!!\")\n",
    "    print(\"\\nProivde the timings\\nPRESS 1 : For PAST HOUR posts\\nPRESS 2 : For PAST DAY posts\\nPRESS 3 : For PAST WEEK\\nPRESS 4 : For PAST MONTH posts\\nPRESS 5 : For PAST YEAR\\nPRESS 6 : For ALL TIME\")\n",
    "    while ipts['t']=='':\n",
    "        choice = int(input(\"Enter your Choice: \")) \n",
    "        if choice==1:\n",
    "            ipts['t']=\"hour\"\n",
    "        elif choice==2:\n",
    "            ipts['t']=\"day\"\n",
    "        elif choice==3:\n",
    "            ipts['t']=\"week\"\n",
    "        elif choice==4:\n",
    "            ipts['t']=\"month\"\n",
    "        elif choice==5:\n",
    "            ipts['t']=\"year\"\n",
    "        elif choice==6:\n",
    "            ipts['t']=\"all\"\n",
    "        else:\n",
    "            print(\"Invalid Choice. Try again!!\")\n",
    "    \n",
    "    return ipts\n",
    "\n",
    "\n",
    "def get_JSON_Data(URL):\n",
    "    data = urlopen(URL).read().decode('UTF-8')\n",
    "    data = xmltodict.parse(data)\n",
    "    json_data = json.dumps(data)\n",
    "    feeds = eval(json_data)\n",
    "    return feeds\n",
    "\n",
    "\n",
    "def getFeeds():\n",
    "    search_term = input(\"Enter the keyword or term for SEARCHING:\\t\")\n",
    "    choices = inputs()\n",
    "    URL = \"https://www.reddit.com/search.rss?q={term}&sort={sort}&t={t}\".format(term=search_term,sort=choices['sort'], t=choices['t'])\n",
    "    feeds = get_JSON_Data(URL)\n",
    "    return feeds\n",
    "\n",
    "\n",
    "def getPost(link):\n",
    "    json_data = get_JSON_Data(link)\n",
    "    feed = json_data['feed']\n",
    "    title = feed['title'].split(':')[0]\n",
    "    author = feed['entry'][0]['author']['name'].split('/')[-1]\n",
    "    content = feed['entry'][0]['content']['#text']\n",
    "    h = html2text.HTML2Text()\n",
    "    h.ignore_links = True\n",
    "    post = h.handle(content).split(\"\\n\\nsubmitted by  /u/\")[0]\n",
    "    comments = []\n",
    "    for i in feed['entry'][1:]:\n",
    "        comments.append(h.handle(i['content']['#text']))\n",
    "    obj = {'title':title,'post':post,'comments':comments}\n",
    "    return obj\n",
    "\n",
    "\n",
    "FEEDS = getFeeds()\n",
    "for i in range(0,len(FEEDS['feed']['entry'])):\n",
    "    obj = FEEDS['feed']['entry'][i]\n",
    "    if 'published' in obj:\n",
    "        print(obj['link']['@href'])\n",
    "#         p = getPost(obj['link']['@href']+'.rss')\n",
    "#         print('title->',p['title'])\n",
    "#         print('post->',p['post'])\n",
    "#         print('comments->',p['comments'])\n",
    "#         print('\\n\\n')"
   ]
  },
  {
   "cell_type": "code",
   "execution_count": 4,
   "metadata": {},
   "outputs": [
    {
     "name": "stdout",
     "output_type": "stream",
     "text": [
      "https://www.reddit.com/r/ProgrammerHumor/comments/mmaiiz/programmers_doping_for_google/\n",
      "https://www.reddit.com/r/twentyonepilots/comments/h0e0d3/event_loc0612202012p/\n",
      "https://www.reddit.com/r/PS5restock/comments/jw3r36/welcome_to_rps5restock/\n",
      "https://www.reddit.com/r/millionairemakers/comments/fm4msu/you_may_be_in_quarantine_but_that_doesnt_mean_we/\n",
      "https://www.reddit.com/r/fireemblem/comments/cjm1b9/three_houses_question_thread_questions_go_here/\n",
      "https://www.reddit.com/r/buildapc/comments/jgrxky/cooler_master_and_more_rtx_3070_and_more_giveaway/\n",
      "https://www.reddit.com/r/RocketLeagueEsports/comments/izi5db/rlcs_x_eu_regional_3_stage_1_group_b_fall_split/\n",
      "https://www.reddit.com/r/RocketLeagueExchange/comments/5siwb8/1xbox_anythinggoes_trading_thread_paypal_dlc/\n",
      "https://www.reddit.com/r/MMA/comments/lzckfw/official_ufc_259_błachowicz_vs_adesanya_live/\n",
      "https://www.reddit.com/r/millionairemakers/comments/6j4jsk/were_back_lets_make_a_millionaire_drawing_thread/\n",
      "https://www.reddit.com/r/MMA/comments/awnkk5/official_ufc_235_jones_vs_smith_live_discussion/\n",
      "https://www.reddit.com/r/MMA/comments/gg7d9y/official_ufc_249_ferguson_vs_gaethje_live/\n",
      "https://www.reddit.com/r/AskReddit/comments/bz71uc/the_last_thing_you_googled_is_what_kills_you_so/\n",
      "https://www.reddit.com/r/PS5restock/comments/kefbdg/welcome_to_rps5restock/\n",
      "https://www.reddit.com/r/MMA/comments/mxt63g/official_ufc_261_usman_vs_masvidal_2_live/\n",
      "https://www.reddit.com/r/MMA/comments/nyh4li/official_ufc_263_adesanya_vs_vettori_2_live/\n",
      "https://www.reddit.com/r/politics/comments/b50gkr/megathread_ag_willam_barr_releases_his_top_line/\n",
      "https://www.reddit.com/r/politics/comments/5n8z88/megathread_intelligence_report_claims_russia_has/\n",
      "https://www.reddit.com/r/MMA/comments/eaqrm9/official_ufc_245_usman_vs_covington_live/\n",
      "https://www.reddit.com/r/MMA/comments/ff3klm/official_ufc_248_adesanya_vs_romero_live/\n",
      "https://www.reddit.com/r/soccer/comments/8y1m08/match_thread_england_v_croatia_fifa_world_cup/\n",
      "https://www.reddit.com/r/MMA/comments/l3nc6k/official_ufc_257_poirier_vs_mcgregor_2_live/\n"
     ]
    }
   ],
   "source": [
    "for i in range(0,len(FEEDS['feed']['entry'])):\n",
    "    obj = FEEDS['feed']['entry'][i]\n",
    "    if 'published' in obj:\n",
    "        print(obj['link']['@href'])\n",
    "        try:\n",
    "            p = getPost(obj['link']['@href']+'.rss')\n",
    "        except Exception:\n",
    "            pass\n",
    "#         print('title->',p['title'])\n",
    "#         print('post->',p['post'])\n",
    "#         print('comments->',p['comments'])\n",
    "#         print('\\n\\n')"
   ]
  }
 ],
 "metadata": {
  "kernelspec": {
   "display_name": "Python 3",
   "language": "python",
   "name": "python3"
  },
  "language_info": {
   "codemirror_mode": {
    "name": "ipython",
    "version": 3
   },
   "file_extension": ".py",
   "mimetype": "text/x-python",
   "name": "python",
   "nbconvert_exporter": "python",
   "pygments_lexer": "ipython3",
   "version": "3.7.4"
  }
 },
 "nbformat": 4,
 "nbformat_minor": 2
}
