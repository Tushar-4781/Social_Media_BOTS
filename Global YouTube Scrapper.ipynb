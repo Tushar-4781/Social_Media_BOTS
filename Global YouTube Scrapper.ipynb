{
 "cells": [
  {
   "cell_type": "code",
   "execution_count": 8,
   "metadata": {},
   "outputs": [],
   "source": [
    "import re\n",
    "import csv\n",
    "from getpass import getpass\n",
    "import time\n",
    "from time import sleep\n",
    "from selenium.webdriver.common.keys import Keys\n",
    "from selenium.common.exceptions import NoSuchElementException\n",
    "from selenium.webdriver import Chrome"
   ]
  },
  {
   "cell_type": "code",
   "execution_count": 9,
   "metadata": {},
   "outputs": [],
   "source": [
    "# application variables\n",
    "search_term = \"programming\"#input()\n",
    "# create instance of web driver\n",
    "driver = Chrome()\n",
    "\n",
    "# navigate to login screen\n",
    "driver.get('https://www.youtube.com/results?search_query='+search_term)\n",
    "driver.maximize_window()\n",
    "\n",
    "sleep(1)"
   ]
  },
  {
   "cell_type": "code",
   "execution_count": 10,
   "metadata": {},
   "outputs": [
    {
     "name": "stdout",
     "output_type": "stream",
     "text": [
      "5  videos has been collected\n"
     ]
    }
   ],
   "source": [
    "videos = []\n",
    "last_position = driver.execute_script(\"return window.pageYOffset;\")\n",
    "scrolling = True\n",
    "video_limit = 5 #int(input(\"Total Videos Limits:\"))\n",
    "while scrolling and len(videos)<=video_limit:\n",
    "    x = driver.find_elements_by_css_selector(\"#video-title\")\n",
    "    videos.extend(x)\n",
    "    \n",
    "    scroll_attempt = 0\n",
    "    while True:\n",
    "        # check scroll position\n",
    "        driver.execute_script('window.scrollTo(0, document.body.scrollHeight);')\n",
    "        time.sleep(1)\n",
    "        curr_position = driver.execute_script(\"return window.pageYOffset;\")\n",
    "        if last_position == curr_position:\n",
    "            scroll_attempt += 1\n",
    "            \n",
    "            # end of scroll region\n",
    "            if scroll_attempt >= 3:\n",
    "                scrolling = False\n",
    "                break\n",
    "            else:\n",
    "                time.sleep(1) # attempt another scroll\n",
    "        else:\n",
    "            last_position = curr_position\n",
    "            break\n",
    "    if(len(videos)>=video_limit):\n",
    "        print(video_limit,\" videos has been collected\")\n",
    "\n",
    "\n"
   ]
  },
  {
   "cell_type": "code",
   "execution_count": 11,
   "metadata": {},
   "outputs": [
    {
     "name": "stdout",
     "output_type": "stream",
     "text": [
      "C Programming Tutorial | In Hindi | Easy to Learn | PRIDE COMPUTER EDUCATION\n",
      "Computer Programming क्या होता है | What is Programming | Video Tutorial in Hindi\n",
      "Basic Arithmetic in Julia | Julia Programming For Nervous Beginners (Week 2 Lesson 1)\n",
      "What is difference between coding and programming\n",
      "How can i become a good programmer, for beginners\n",
      "why you NEED math for programming\n",
      "BEST Way To Learn Programming Language (quickly and easily!) | Placement Series\n",
      "How Much Maths is Needed for Programming?\n",
      "What A Day In A Programmers Life Is Actually Like\n",
      "How to Write Letters for Children - Teaching Writing ABC for Preschool - Alphabet for Kids\n",
      "How are robots built?\n",
      "Programming Expectations vs Reality\n",
      "Dynamic Programming - Learn to Solve Algorithmic Problems & Coding Challenges\n",
      "Programming vs Coding - What's the difference?\n",
      "2021 - Top 5 Programming Language for College Students 2021\n",
      "Windows 11 impression for programmers\n",
      "How to learn Programming Language With Full Information? – [Hindi] – Quick Support\n",
      "Python Tutorial - Python for Beginners [Full Course]\n",
      "What is Programming?, Where it is used?? | प्रोग्रामिंग क्या है ?, इसका उपयोग कहाँ किया जाता है ??\n",
      "What is the difference between programming and coding\n",
      "Why Programming Is Important?\n",
      "Learn C language in 30 Minutes & Start Coding For Beginners in Hindi\n",
      "How to Start Coding | Programming for Beginners | Learn Coding | Intellipaat\n",
      "Introduction to Programming and Computer Science - Full Course\n"
     ]
    }
   ],
   "source": [
    "videos = videos[::-1]\n",
    "# container > h1 > yt-formatted-string\n",
    "len(videos)\n",
    "video_links = []\n",
    "for i in range(len(videos)):\n",
    "    if(videos[i].text==''):\n",
    "        break\n",
    "    video_links.append(videos[i].get_attribute('href'))\n",
    "    print(videos[i].text)\n",
    "    "
   ]
  },
  {
   "cell_type": "code",
   "execution_count": 12,
   "metadata": {},
   "outputs": [
    {
     "data": {
      "text/plain": [
       "['https://www.youtube.com/watch?v=GIqcZXtqh_U',\n",
       " 'https://www.youtube.com/watch?v=pBtJNu8S_ho',\n",
       " 'https://www.youtube.com/watch?v=Ums8TvvBd48',\n",
       " 'https://www.youtube.com/watch?v=YBLF6ZqhO5I',\n",
       " 'https://www.youtube.com/watch?v=2-VKC8g2u1Y',\n",
       " 'https://www.youtube.com/watch?v=sW9npZVpiMI',\n",
       " 'https://www.youtube.com/watch?v=_bQ5_RvKoVU',\n",
       " 'https://www.youtube.com/watch?v=UR9NBzAyjWw',\n",
       " 'https://www.youtube.com/watch?v=QjMJsQx_O7o',\n",
       " 'https://www.youtube.com/watch?v=C7oebqj3PCY',\n",
       " 'https://www.youtube.com/watch?v=oHKCwyUa2rg',\n",
       " 'https://www.youtube.com/watch?v=r7dZKOL5rcg',\n",
       " 'https://www.youtube.com/watch?v=oBt53YbR9Kk',\n",
       " 'https://www.youtube.com/watch?v=CIRGjwYgdT4',\n",
       " 'https://www.youtube.com/watch?v=s2fwy4ri0RU',\n",
       " 'https://www.youtube.com/watch?v=mmYUBHrJjdA',\n",
       " 'https://www.youtube.com/watch?v=EByDFE6zFPU',\n",
       " 'https://www.youtube.com/watch?v=_uQrJ0TkZlc',\n",
       " 'https://www.youtube.com/watch?v=UXVoAfcN4E4',\n",
       " 'https://www.youtube.com/watch?v=6tZz6gr1h9E',\n",
       " 'https://www.youtube.com/watch?v=Dv7gLpW91DM',\n",
       " 'https://www.youtube.com/watch?v=U8_8fTODn5g',\n",
       " 'https://www.youtube.com/watch?v=HIj8wU_rGIU',\n",
       " 'https://www.youtube.com/watch?v=zOjov-2OZ0E']"
      ]
     },
     "execution_count": 12,
     "metadata": {},
     "output_type": "execute_result"
    }
   ],
   "source": [
    "comments_per_video_limit = 6#int(input(\"Comments Limit from each video\"))\n",
    "video_links"
   ]
  },
  {
   "cell_type": "code",
   "execution_count": null,
   "metadata": {},
   "outputs": [],
   "source": [
    "for i in video_links:\n",
    "    driver.get(i)\n",
    "    try:\n",
    "        print(\"+\" * 40)  # Shows in terminal when details of a new video is being scraped\n",
    "        print(\"Scraping child links \")\n",
    "        #scroll down to load comments\n",
    "        driver.execute_script('window.scrollTo(0,390);')\n",
    "        time.sleep(5)\n",
    "        #sort by top comments\n",
    "        sort= driver.find_element_by_xpath(\"\"\"//*[@id=\"icon-label\"]\"\"\")\n",
    "        sort.click()\n",
    "        time.sleep(5)\n",
    "        topcomments =driver.find_element_by_xpath(\"\"\"//*[@id=\"menu\"]/a[1]/paper-item/paper-item-body/div[1]\"\"\")\n",
    "        topcomments.click()\n",
    "        time.sleep(5)\n",
    "        # Loads 20 comments , scroll two times to load next set of 40 comments. \n",
    "        for i in range(0,2):\n",
    "            driver.execute_script(\"window.scrollTo(0,Math.max(document.documentElement.scrollHeight,document.body.scrollHeight,document.documentElement.clientHeight))\")\n",
    "            time.sleep(5)\n",
    "\n",
    "        #count total number of comments and set index to number of comments if less than 50 otherwise set as 50. \n",
    "        totalcomments= len(driver.find_elements_by_xpath(\"\"\"//*[@id=\"content-text\"]\"\"\"))\n",
    "\n",
    "        if totalcomments < 50:\n",
    "            index= totalcomments\n",
    "        else:\n",
    "            index= 50 \n",
    "\n",
    "        ccount = 0\n",
    "        while ccount < index: \n",
    "            try:\n",
    "                comment = driver.find_elements_by_xpath('//*[@id=\"content-text\"]')[ccount].text\n",
    "            except:\n",
    "                comment = \"\"\n",
    "            try:\n",
    "                authors = driver.find_elements_by_xpath('//a[@id=\"author-text\"]/span')[ccount].text\n",
    "            except:\n",
    "                authors = \"\"\n",
    "            try:\n",
    "                comment_posted = driver.find_elements_by_xpath('//*[@id=\"published-time-text\"]/a')[ccount].text\n",
    "            except:\n",
    "                comment_posted = \"\"\n",
    "            try:\n",
    "                replies = driver.find_elements_by_xpath('//*[@id=\"more-text\"]')[ccount].text                    \n",
    "                if replies ==\"View reply\":\n",
    "                    replies= 1\n",
    "                else:\n",
    "                    replies =replies.replace(\"View \",\"\")\n",
    "                    replies =replies.replace(\" replies\",\"\")\n",
    "            except:\n",
    "                replies = \"\"\n",
    "            try:\n",
    "                upvotes = driver.find_elements_by_xpath('//*[@id=\"vote-count-middle\"]')[ccount].text\n",
    "            except:\n",
    "                upvotes = \"\"\n",
    "\n",
    "            youtube_dict['url'] = href[tcount]\n",
    "            youtube_dict['link_title'] = title[tcount]\n",
    "            youtube_dict['channel'] = channel[tcount]\n",
    "            youtube_dict['no_of_views'] = numview[tcount]\n",
    "            youtube_dict['time_uploaded'] =  postdate[tcount]\n",
    "            youtube_dict['comment'] = comment\n",
    "            youtube_dict['author'] = authors\n",
    "            youtube_dict['comment_posted'] = comment_posted\n",
    "            youtube_dict['no_of_replies'] = replies\n",
    "            youtube_dict['upvotes'] = upvotes\n",
    "\n",
    "            writer.writerow(youtube_dict.values())\n",
    "            ccount = ccount +1\n",
    "\n",
    "    except Exception as e:\n",
    "        continue\n",
    "    tcount = tcount +1 \n",
    "print(\"Scrapping process Completed\")   \n",
    "csv_file.close()"
   ]
  },
  {
   "cell_type": "code",
   "execution_count": null,
   "metadata": {},
   "outputs": [],
   "source": []
  }
 ],
 "metadata": {
  "kernelspec": {
   "display_name": "Python 3",
   "language": "python",
   "name": "python3"
  },
  "language_info": {
   "codemirror_mode": {
    "name": "ipython",
    "version": 3
   },
   "file_extension": ".py",
   "mimetype": "text/x-python",
   "name": "python",
   "nbconvert_exporter": "python",
   "pygments_lexer": "ipython3",
   "version": "3.7.4"
  }
 },
 "nbformat": 4,
 "nbformat_minor": 2
}
